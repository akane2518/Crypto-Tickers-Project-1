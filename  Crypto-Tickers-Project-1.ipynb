{
 "cells": [
  {
   "cell_type": "code",
   "execution_count": 3,
   "id": "36f41502-df1a-4c3d-a184-4c1059f34a32",
   "metadata": {},
   "outputs": [],
   "source": [
    "import os\n",
    "import requests\n",
    "import pandas as pd\n",
    "from dotenv import load_dotenv\n",
    "import alpaca_trade_api as tradeapi\n",
    "from MCForecastTools import MCSimulation\n",
    "import json\n",
    "import warnings\n",
    "\n",
    "warnings.simplefilter(action='ignore', category=pd.errors.PerformanceWarning)\n",
    "\n",
    "%matplotlib inline"
   ]
  },
  {
   "cell_type": "code",
   "execution_count": 8,
   "id": "98bebab2-d80a-4f47-9d6d-91848c0fbbe6",
   "metadata": {},
   "outputs": [
    {
     "data": {
      "text/plain": [
       "True"
      ]
     },
     "execution_count": 8,
     "metadata": {},
     "output_type": "execute_result"
    }
   ],
   "source": [
    "# Load .env enviroment variables\n",
    "load_dotenv('.env')"
   ]
  },
  {
   "cell_type": "code",
   "execution_count": null,
   "id": "712220a8-7dfa-4b6e-9eaa-d4313d9bdb59",
   "metadata": {},
   "outputs": [],
   "source": [
    "# Set current amount of crypto assets\n",
    "# YOUR CODE HERE!"
   ]
  },
  {
   "cell_type": "code",
   "execution_count": 9,
   "id": "fef0ad2b-cf45-4271-81e1-7deaf3cf6f29",
   "metadata": {},
   "outputs": [],
   "source": [
    "# Crypto API URLs\n",
    "ltc_url = \"https://api.alternative.me/v2/ticker/Litecoin/?convert=CAD\"\n",
    "chl_url = \"https://api.alternative.me/v2/ticker/Chainlink/?convert=CAD\""
   ]
  },
  {
   "cell_type": "code",
   "execution_count": 22,
   "id": "be5ca61c-7c9e-4ef4-bf07-f2fbafba7040",
   "metadata": {},
   "outputs": [
    {
     "name": "stdout",
     "output_type": "stream",
     "text": [
      "<Response [200]>\n",
      "<Response [200]>\n",
      "The current value of your Litecoin LTC is $73.15\n",
      "The current value of your Chainlink CHL is $10.22\n"
     ]
    }
   ],
   "source": [
    "# Fetch current BTC price\n",
    "# YOUR CODE HERE!\n",
    "response_data_ltc=requests.get(ltc_url)\n",
    "print(response_data_ltc)\n",
    "response_content_ltc = response_data_ltc.content\n",
    "data_ltc = response_data_ltc.json()\n",
    "\n",
    "#print(json.dumps(data_ltc, indent=4))\n",
    "\n",
    "ltc_df = data_ltc['data']\n",
    "\n",
    "\n",
    "my_ltc=ltc_df['2']['name']\n",
    "\n",
    "my_ltc_value=ltc_df['2']['quotes']['CAD']['price']\n",
    "\n",
    "# Fetch current CHL price\n",
    "# YOUR CODE HERE!\n",
    "response_data_chl=requests.get(chl_url)\n",
    "print(response_data_chl)\n",
    "response_content_chl = response_data_chl.content\n",
    "data_chl = response_data_chl.json()\n",
    "\n",
    "#print(json.dumps(data_chl, indent=4))\n",
    "\n",
    "chl_df = data_chl['data']\n",
    "\n",
    "my_chl=chl_df['1975']['name']\n",
    "# Compute current value of my crpto\n",
    "# YOUR CODE HERE!\n",
    "my_chl_value=chl_df['1975']['quotes']['CAD']['price']\n",
    "\n",
    "# Print current crypto wallet balance\n",
    "print(f\"The current value of your {my_ltc} LTC is ${my_ltc_value:0.2f}\")\n",
    "print(f\"The current value of your {my_chl} CHL is ${my_chl_value:0.2f}\")"
   ]
  },
  {
   "cell_type": "code",
   "execution_count": 26,
   "id": "3390a718-14c8-458c-96cf-3d6df36f78e1",
   "metadata": {},
   "outputs": [
    {
     "data": {
      "text/html": [
       "<div>\n",
       "<style scoped>\n",
       "    .dataframe tbody tr th:only-of-type {\n",
       "        vertical-align: middle;\n",
       "    }\n",
       "\n",
       "    .dataframe tbody tr th {\n",
       "        vertical-align: top;\n",
       "    }\n",
       "\n",
       "    .dataframe thead th {\n",
       "        text-align: right;\n",
       "    }\n",
       "</style>\n",
       "<table border=\"1\" class=\"dataframe\">\n",
       "  <thead>\n",
       "    <tr style=\"text-align: right;\">\n",
       "      <th></th>\n",
       "      <th>Date</th>\n",
       "      <th>Close/Last</th>\n",
       "      <th>Volume</th>\n",
       "      <th>Open</th>\n",
       "      <th>High</th>\n",
       "      <th>Low</th>\n",
       "    </tr>\n",
       "  </thead>\n",
       "  <tbody>\n",
       "    <tr>\n",
       "      <th>1253</th>\n",
       "      <td>10/05/2017</td>\n",
       "      <td>$38.8475</td>\n",
       "      <td>84863480</td>\n",
       "      <td>$38.545</td>\n",
       "      <td>$38.86</td>\n",
       "      <td>$38.5125</td>\n",
       "    </tr>\n",
       "    <tr>\n",
       "      <th>1254</th>\n",
       "      <td>10/04/2017</td>\n",
       "      <td>$38.37</td>\n",
       "      <td>80355760</td>\n",
       "      <td>$38.4075</td>\n",
       "      <td>$38.465</td>\n",
       "      <td>$38.115</td>\n",
       "    </tr>\n",
       "    <tr>\n",
       "      <th>1255</th>\n",
       "      <td>10/03/2017</td>\n",
       "      <td>$38.62</td>\n",
       "      <td>64867200</td>\n",
       "      <td>$38.5025</td>\n",
       "      <td>$38.7725</td>\n",
       "      <td>$38.4775</td>\n",
       "    </tr>\n",
       "    <tr>\n",
       "      <th>1256</th>\n",
       "      <td>10/02/2017</td>\n",
       "      <td>$38.4525</td>\n",
       "      <td>74526160</td>\n",
       "      <td>$38.565</td>\n",
       "      <td>$38.6125</td>\n",
       "      <td>$38.18</td>\n",
       "    </tr>\n",
       "    <tr>\n",
       "      <th>1257</th>\n",
       "      <td>09/29/2017</td>\n",
       "      <td>$38.53</td>\n",
       "      <td>104818680</td>\n",
       "      <td>$38.3025</td>\n",
       "      <td>$38.5325</td>\n",
       "      <td>$38</td>\n",
       "    </tr>\n",
       "  </tbody>\n",
       "</table>\n",
       "</div>"
      ],
      "text/plain": [
       "            Date Close/Last     Volume      Open      High       Low\n",
       "1253  10/05/2017   $38.8475   84863480   $38.545    $38.86  $38.5125\n",
       "1254  10/04/2017     $38.37   80355760  $38.4075   $38.465   $38.115\n",
       "1255  10/03/2017     $38.62   64867200  $38.5025  $38.7725  $38.4775\n",
       "1256  10/02/2017   $38.4525   74526160   $38.565  $38.6125    $38.18\n",
       "1257  09/29/2017     $38.53  104818680  $38.3025  $38.5325       $38"
      ]
     },
     "execution_count": 26,
     "metadata": {},
     "output_type": "execute_result"
    }
   ],
   "source": [
    "# Read the Apple CSV into DataFrame and display a few rows\n",
    "appl_df = pd.read_csv('Resources/AppleData.csv')\n",
    "appl_df.head(5)\n",
    "\n"
   ]
  },
  {
   "cell_type": "code",
   "execution_count": 28,
   "id": "ace19510-2682-4d52-b0c5-8ef22e2bb5ac",
   "metadata": {},
   "outputs": [
    {
     "data": {
      "text/html": [
       "<div>\n",
       "<style scoped>\n",
       "    .dataframe tbody tr th:only-of-type {\n",
       "        vertical-align: middle;\n",
       "    }\n",
       "\n",
       "    .dataframe tbody tr th {\n",
       "        vertical-align: top;\n",
       "    }\n",
       "\n",
       "    .dataframe thead th {\n",
       "        text-align: right;\n",
       "    }\n",
       "</style>\n",
       "<table border=\"1\" class=\"dataframe\">\n",
       "  <thead>\n",
       "    <tr style=\"text-align: right;\">\n",
       "      <th></th>\n",
       "      <th>Date</th>\n",
       "      <th>Close/Last</th>\n",
       "      <th>Volume</th>\n",
       "      <th>Open</th>\n",
       "      <th>High</th>\n",
       "      <th>Low</th>\n",
       "    </tr>\n",
       "  </thead>\n",
       "  <tbody>\n",
       "    <tr>\n",
       "      <th>1253</th>\n",
       "      <td>10/05/2017</td>\n",
       "      <td>$23.6887</td>\n",
       "      <td>62518664</td>\n",
       "      <td>$23.7333</td>\n",
       "      <td>$23.829</td>\n",
       "      <td>$23.4233</td>\n",
       "    </tr>\n",
       "    <tr>\n",
       "      <th>1254</th>\n",
       "      <td>10/04/2017</td>\n",
       "      <td>$23.6673</td>\n",
       "      <td>122219864</td>\n",
       "      <td>$23.4167</td>\n",
       "      <td>$23.908</td>\n",
       "      <td>$23.3067</td>\n",
       "    </tr>\n",
       "    <tr>\n",
       "      <th>1255</th>\n",
       "      <td>10/03/2017</td>\n",
       "      <td>$23.2093</td>\n",
       "      <td>151838174</td>\n",
       "      <td>$22.3933</td>\n",
       "      <td>$23.2367</td>\n",
       "      <td>$22.0853</td>\n",
       "    </tr>\n",
       "    <tr>\n",
       "      <th>1256</th>\n",
       "      <td>10/02/2017</td>\n",
       "      <td>$22.7687</td>\n",
       "      <td>78413166</td>\n",
       "      <td>$22.8347</td>\n",
       "      <td>$22.9133</td>\n",
       "      <td>$22.3673</td>\n",
       "    </tr>\n",
       "    <tr>\n",
       "      <th>1257</th>\n",
       "      <td>09/29/2017</td>\n",
       "      <td>$22.74</td>\n",
       "      <td>76485727</td>\n",
       "      <td>$22.7907</td>\n",
       "      <td>$22.9787</td>\n",
       "      <td>$22.5734</td>\n",
       "    </tr>\n",
       "  </tbody>\n",
       "</table>\n",
       "</div>"
      ],
      "text/plain": [
       "            Date Close/Last     Volume      Open      High       Low\n",
       "1253  10/05/2017   $23.6887   62518664  $23.7333   $23.829  $23.4233\n",
       "1254  10/04/2017   $23.6673  122219864  $23.4167   $23.908  $23.3067\n",
       "1255  10/03/2017   $23.2093  151838174  $22.3933  $23.2367  $22.0853\n",
       "1256  10/02/2017   $22.7687   78413166  $22.8347  $22.9133  $22.3673\n",
       "1257  09/29/2017     $22.74   76485727  $22.7907  $22.9787  $22.5734"
      ]
     },
     "execution_count": 28,
     "metadata": {},
     "output_type": "execute_result"
    }
   ],
   "source": [
    "# Read the Tesla CSV into DataFrame and display a few rows\n",
    "tesla_df = pd.read_csv('Resources/TeslaData.csv')\n",
    "tesla_df.head"
   ]
  },
  {
   "cell_type": "code",
   "execution_count": null,
   "id": "2c354ad5-4382-4018-aed8-e422081b20cf",
   "metadata": {},
   "outputs": [],
   "source": []
  }
 ],
 "metadata": {
  "kernelspec": {
   "display_name": "Python 3 (ipykernel)",
   "language": "python",
   "name": "python3"
  },
  "language_info": {
   "codemirror_mode": {
    "name": "ipython",
    "version": 3
   },
   "file_extension": ".py",
   "mimetype": "text/x-python",
   "name": "python",
   "nbconvert_exporter": "python",
   "pygments_lexer": "ipython3",
   "version": "3.9.12"
  }
 },
 "nbformat": 4,
 "nbformat_minor": 5
}
