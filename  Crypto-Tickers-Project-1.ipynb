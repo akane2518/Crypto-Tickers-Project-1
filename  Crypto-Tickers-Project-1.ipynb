{
 "cells": [
  {
   "cell_type": "code",
   "execution_count": 3,
   "id": "36f41502-df1a-4c3d-a184-4c1059f34a32",
   "metadata": {},
   "outputs": [],
   "source": [
    "import os\n",
    "import requests\n",
    "import pandas as pd\n",
    "from dotenv import load_dotenv\n",
    "import alpaca_trade_api as tradeapi\n",
    "from MCForecastTools import MCSimulation\n",
    "import json\n",
    "import warnings\n",
    "\n",
    "warnings.simplefilter(action='ignore', category=pd.errors.PerformanceWarning)\n",
    "\n",
    "%matplotlib inline"
   ]
  },
  {
   "cell_type": "code",
   "execution_count": 8,
   "id": "98bebab2-d80a-4f47-9d6d-91848c0fbbe6",
   "metadata": {},
   "outputs": [
    {
     "data": {
      "text/plain": [
       "True"
      ]
     },
     "execution_count": 8,
     "metadata": {},
     "output_type": "execute_result"
    }
   ],
   "source": [
    "# Load .env enviroment variables\n",
    "load_dotenv('.env')"
   ]
  },
  {
   "cell_type": "code",
   "execution_count": null,
   "id": "712220a8-7dfa-4b6e-9eaa-d4313d9bdb59",
   "metadata": {},
   "outputs": [],
   "source": [
    "# Set current amount of crypto assets\n",
    "# YOUR CODE HERE!"
   ]
  },
  {
   "cell_type": "code",
   "execution_count": 34,
   "id": "fef0ad2b-cf45-4271-81e1-7deaf3cf6f29",
   "metadata": {},
   "outputs": [],
   "source": [
    "# Crypto API URLs\n",
    "ltc_url = \"https://api.alternative.me/v2/ticker/Litecoin/?convert=USD\"\n",
    "chl_url = \"https://api.alternative.me/v2/ticker/Chainlink/?convert=USD\""
   ]
  },
  {
   "cell_type": "code",
   "execution_count": 39,
   "id": "be5ca61c-7c9e-4ef4-bf07-f2fbafba7040",
   "metadata": {},
   "outputs": [
    {
     "name": "stdout",
     "output_type": "stream",
     "text": [
      "<Response [200]>\n",
      "<Response [200]>\n",
      "The current value of your Litecoin LTC is $53.69\n",
      "The current value of your Chainlink CHL is $7.31\n"
     ]
    }
   ],
   "source": [
    "# Fetch current BTC price\n",
    "# YOUR CODE HERE!\n",
    "response_data_ltc=requests.get(ltc_url)\n",
    "print(response_data_ltc)\n",
    "response_content_ltc = response_data_ltc.content\n",
    "data_ltc = response_data_ltc.json()\n",
    "\n",
    "#print(json.dumps(data_ltc, indent=4))\n",
    "\n",
    "ltc_df = data_ltc['data']\n",
    "#display(ltc_df)\n",
    "\n",
    "\n",
    "my_ltc=ltc_df['2']['name']\n",
    "\n",
    "my_ltc_value=ltc_df['2']['quotes']['USD']['price']\n",
    "\n",
    "# Fetch current CHL price\n",
    "# YOUR CODE HERE!\n",
    "response_data_chl=requests.get(chl_url)\n",
    "print(response_data_chl)\n",
    "response_content_chl = response_data_chl.content\n",
    "data_chl = response_data_chl.json()\n",
    "\n",
    "#print(json.dumps(data_chl, indent=4))\n",
    "\n",
    "chl_df = data_chl['data']\n",
    "\n",
    "my_chl=chl_df['1975']['name']\n",
    "# Compute current value of my crpto\n",
    "# YOUR CODE HERE!\n",
    "my_chl_value=chl_df['1975']['quotes']['USD']['price']\n",
    "\n",
    "# Print current crypto wallet balance\n",
    "print(f\"The current value of your {my_ltc} LTC is ${my_ltc_value:0.2f}\")\n",
    "print(f\"The current value of your {my_chl} CHL is ${my_chl_value:0.2f}\")"
   ]
  },
  {
   "cell_type": "code",
   "execution_count": 40,
   "id": "3390a718-14c8-458c-96cf-3d6df36f78e1",
   "metadata": {},
   "outputs": [
    {
     "data": {
      "text/html": [
       "<div>\n",
       "<style scoped>\n",
       "    .dataframe tbody tr th:only-of-type {\n",
       "        vertical-align: middle;\n",
       "    }\n",
       "\n",
       "    .dataframe tbody tr th {\n",
       "        vertical-align: top;\n",
       "    }\n",
       "\n",
       "    .dataframe thead th {\n",
       "        text-align: right;\n",
       "    }\n",
       "</style>\n",
       "<table border=\"1\" class=\"dataframe\">\n",
       "  <thead>\n",
       "    <tr style=\"text-align: right;\">\n",
       "      <th></th>\n",
       "      <th>Date</th>\n",
       "      <th>Close/Last</th>\n",
       "      <th>Volume</th>\n",
       "      <th>Open</th>\n",
       "      <th>High</th>\n",
       "      <th>Low</th>\n",
       "    </tr>\n",
       "  </thead>\n",
       "  <tbody>\n",
       "    <tr>\n",
       "      <th>0</th>\n",
       "      <td>09/28/2022</td>\n",
       "      <td>$149.84</td>\n",
       "      <td>146691400</td>\n",
       "      <td>$147.64</td>\n",
       "      <td>$150.6414</td>\n",
       "      <td>$144.84</td>\n",
       "    </tr>\n",
       "    <tr>\n",
       "      <th>1</th>\n",
       "      <td>09/27/2022</td>\n",
       "      <td>$151.76</td>\n",
       "      <td>84442740</td>\n",
       "      <td>$152.74</td>\n",
       "      <td>$154.72</td>\n",
       "      <td>$149.945</td>\n",
       "    </tr>\n",
       "    <tr>\n",
       "      <th>2</th>\n",
       "      <td>09/26/2022</td>\n",
       "      <td>$150.77</td>\n",
       "      <td>93339410</td>\n",
       "      <td>$149.66</td>\n",
       "      <td>$153.7701</td>\n",
       "      <td>$149.64</td>\n",
       "    </tr>\n",
       "    <tr>\n",
       "      <th>3</th>\n",
       "      <td>09/23/2022</td>\n",
       "      <td>$150.43</td>\n",
       "      <td>96029910</td>\n",
       "      <td>$151.19</td>\n",
       "      <td>$151.47</td>\n",
       "      <td>$148.56</td>\n",
       "    </tr>\n",
       "    <tr>\n",
       "      <th>4</th>\n",
       "      <td>09/22/2022</td>\n",
       "      <td>$152.74</td>\n",
       "      <td>86652540</td>\n",
       "      <td>$152.38</td>\n",
       "      <td>$154.47</td>\n",
       "      <td>$150.91</td>\n",
       "    </tr>\n",
       "  </tbody>\n",
       "</table>\n",
       "</div>"
      ],
      "text/plain": [
       "         Date Close/Last     Volume     Open       High       Low\n",
       "0  09/28/2022    $149.84  146691400  $147.64  $150.6414   $144.84\n",
       "1  09/27/2022    $151.76   84442740  $152.74    $154.72  $149.945\n",
       "2  09/26/2022    $150.77   93339410  $149.66  $153.7701   $149.64\n",
       "3  09/23/2022    $150.43   96029910  $151.19    $151.47   $148.56\n",
       "4  09/22/2022    $152.74   86652540  $152.38    $154.47   $150.91"
      ]
     },
     "execution_count": 40,
     "metadata": {},
     "output_type": "execute_result"
    }
   ],
   "source": [
    "# Read the Apple CSV into DataFrame and display a few rows\n",
    "appl_df = pd.read_csv('Resources/AppleData.csv')\n",
    "appl_df.head()"
   ]
  },
  {
   "cell_type": "code",
   "execution_count": 41,
   "id": "ace19510-2682-4d52-b0c5-8ef22e2bb5ac",
   "metadata": {},
   "outputs": [
    {
     "data": {
      "text/html": [
       "<div>\n",
       "<style scoped>\n",
       "    .dataframe tbody tr th:only-of-type {\n",
       "        vertical-align: middle;\n",
       "    }\n",
       "\n",
       "    .dataframe tbody tr th {\n",
       "        vertical-align: top;\n",
       "    }\n",
       "\n",
       "    .dataframe thead th {\n",
       "        text-align: right;\n",
       "    }\n",
       "</style>\n",
       "<table border=\"1\" class=\"dataframe\">\n",
       "  <thead>\n",
       "    <tr style=\"text-align: right;\">\n",
       "      <th></th>\n",
       "      <th>Date</th>\n",
       "      <th>Close/Last</th>\n",
       "      <th>Volume</th>\n",
       "      <th>Open</th>\n",
       "      <th>High</th>\n",
       "      <th>Low</th>\n",
       "    </tr>\n",
       "  </thead>\n",
       "  <tbody>\n",
       "    <tr>\n",
       "      <th>0</th>\n",
       "      <td>09/28/2022</td>\n",
       "      <td>$287.81</td>\n",
       "      <td>54664810</td>\n",
       "      <td>$283.08</td>\n",
       "      <td>$289</td>\n",
       "      <td>$277.57</td>\n",
       "    </tr>\n",
       "    <tr>\n",
       "      <th>1</th>\n",
       "      <td>09/27/2022</td>\n",
       "      <td>$282.94</td>\n",
       "      <td>61925190</td>\n",
       "      <td>$283.84</td>\n",
       "      <td>$288.67</td>\n",
       "      <td>$277.51</td>\n",
       "    </tr>\n",
       "    <tr>\n",
       "      <th>2</th>\n",
       "      <td>09/26/2022</td>\n",
       "      <td>$276.01</td>\n",
       "      <td>58076910</td>\n",
       "      <td>$271.83</td>\n",
       "      <td>$284.09</td>\n",
       "      <td>$270.31</td>\n",
       "    </tr>\n",
       "    <tr>\n",
       "      <th>3</th>\n",
       "      <td>09/23/2022</td>\n",
       "      <td>$275.33</td>\n",
       "      <td>63748360</td>\n",
       "      <td>$283.09</td>\n",
       "      <td>$284.5</td>\n",
       "      <td>$272.82</td>\n",
       "    </tr>\n",
       "    <tr>\n",
       "      <th>4</th>\n",
       "      <td>09/22/2022</td>\n",
       "      <td>$288.59</td>\n",
       "      <td>70545410</td>\n",
       "      <td>$299.86</td>\n",
       "      <td>$301.29</td>\n",
       "      <td>$285.82</td>\n",
       "    </tr>\n",
       "  </tbody>\n",
       "</table>\n",
       "</div>"
      ],
      "text/plain": [
       "         Date Close/Last    Volume     Open     High      Low\n",
       "0  09/28/2022    $287.81  54664810  $283.08     $289  $277.57\n",
       "1  09/27/2022    $282.94  61925190  $283.84  $288.67  $277.51\n",
       "2  09/26/2022    $276.01  58076910  $271.83  $284.09  $270.31\n",
       "3  09/23/2022    $275.33  63748360  $283.09   $284.5  $272.82\n",
       "4  09/22/2022    $288.59  70545410  $299.86  $301.29  $285.82"
      ]
     },
     "execution_count": 41,
     "metadata": {},
     "output_type": "execute_result"
    }
   ],
   "source": [
    "# Read the Tesla CSV into DataFrame and display a few rows\n",
    "tesla_df = pd.read_csv('Resources/TeslaData.csv')\n",
    "tesla_df.head()"
   ]
  },
  {
   "cell_type": "code",
   "execution_count": null,
   "id": "2c354ad5-4382-4018-aed8-e422081b20cf",
   "metadata": {},
   "outputs": [],
   "source": []
  }
 ],
 "metadata": {
  "kernelspec": {
   "display_name": "Python 3 (ipykernel)",
   "language": "python",
   "name": "python3"
  },
  "language_info": {
   "codemirror_mode": {
    "name": "ipython",
    "version": 3
   },
   "file_extension": ".py",
   "mimetype": "text/x-python",
   "name": "python",
   "nbconvert_exporter": "python",
   "pygments_lexer": "ipython3",
   "version": "3.9.12"
  }
 },
 "nbformat": 4,
 "nbformat_minor": 5
}
